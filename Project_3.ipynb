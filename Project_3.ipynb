{
 "cells": [
  {
   "cell_type": "markdown",
   "metadata": {},
   "source": [
    "# Reddit NLP analysis"
   ]
  },
  {
   "cell_type": "markdown",
   "metadata": {},
   "source": [
    "## Objective"
   ]
  },
  {
   "cell_type": "markdown",
   "metadata": {},
   "source": [
    "The reason I chose two subreddits below is due to the nature of fashion at the moment. The erasure of the gender boundaries can be observed over the recent decade: female trends have become more masculine, adopting _\"traditionally\"_ male fashion pieces and jargon, whereas men's fashion showcased adaptation of _\"traditionally\"_ female fabrics such as chiffon and lace. I wanted to analyze how different are we in languages that we utilise in these _unisex_ setting.\n",
    " \n",
    " \n",
    "     - Male Fashion Advice with 2.2 mln subscribers\n",
    "     \n",
    "     - Female Fashion Advice with 850 k subscribers\n",
    "\n",
    "These two subreddits are good in a sense that for malefashionadvice the majority of participants are prevalently men and vice versa for female thread, and most of the text would be used in the post not in the comment section, providing me with an opportunity to actually analyze the differences in gender languages.\n",
    "\n",
    "\n",
    "\n",
    "\n",
    "So the main objectives of the project are to:\n",
    "\n",
    "\n",
    " - Analyze two subreddits and the difference in the language used in the two threads\n",
    "     \n",
    "     \n",
    " - Create model with highest accuracy score and minimize Type I and Type II errors"
   ]
  },
  {
   "cell_type": "markdown",
   "metadata": {},
   "source": [
    "## Project Overview"
   ]
  },
  {
   "cell_type": "markdown",
   "metadata": {},
   "source": [
    "1. For this project I had to pull in the data first, so I scraped the data using Reddit API\n",
    "\n",
    "    - I was able to collect enough dataset for my project around 3835 posts proportinately divided between two subreddits\n",
    "    \n",
    "    \n",
    "2. Data cleaning is an essentail part of any data science project\n",
    "\n",
    "    - There were missing values in the dataset, but I mostly didn't need these features for my model\n",
    "    \n",
    "    - The only features I was interested in are 'selftext' and 'title'\n",
    "    \n",
    "    - And I had to engineer the main feature since the actual posts are in the 'selftext' columns, but the may be missing due to the nature of the post, i.e. posing a question in the 'title' section\n",
    "    \n",
    "    \n",
    "3. As for data munging, I had to create the model first and analyze it performance\n",
    "\n",
    "    - Only then I could go back and create several lists for stop words to be used in the model\n",
    "    \n",
    "    \n",
    "4. In order to select the best fit model I utlized GridSearch and Pipeline in order to tweak the features of the transformer and used it on Naive Bayes model and Logistic Regression model\n",
    "\n",
    "    - Logistic Regression model performed substantially better and I was able to achieve zero false positives\n",
    "\n",
    "\n",
    "5. Data visualisation in order to analyze:\n",
    "\n",
    "    - what words are most common between two subreddits\n",
    "    \n",
    "    - word and sentence length\n",
    "    \n",
    "    - which words were assigned the highest coefficients\n",
    "    \n",
    "    \n",
    "6. Conclusions on the project\n"
   ]
  },
  {
   "cell_type": "markdown",
   "metadata": {},
   "source": [
    "## Useful links"
   ]
  },
  {
   "cell_type": "markdown",
   "metadata": {},
   "source": [
    "1. This is the link to the [Data Scraper NB](./Scraper.ipynb) in case you want to check out the code for scraping data using Reddit API\n",
    "\n",
    "2. To check out the data cleaning process click on this link [Data Cleaning NB](./Data_cleaning.ipynb)\n",
    "\n",
    "3. Follow this link [Model NB](./Model_2.ipynb) to check out how Naive Bayes model performed against Logistic Regression model using GridSearch and Pipeline\n",
    "\n",
    "4. [Exploratory Data Analysis and Visualization ](#EDA)\n",
    "\n",
    "5. [Model performance and analysis](#Model)\n",
    "\n",
    "6. [Coefficient analysis](#Coefficient)\n",
    "\n",
    "7. [Conclusions on the project](#Conclusion)"
   ]
  },
  {
   "cell_type": "markdown",
   "metadata": {},
   "source": [
    "## <a name = 'EDA' style = 'color: black'>EDA</a>"
   ]
  },
  {
   "cell_type": "code",
   "execution_count": 1,
   "metadata": {},
   "outputs": [],
   "source": [
    "import pandas as pd\n",
    "from sklearn.metrics import classification_report, confusion_matrix, accuracy_score\n",
    "from sklearn.pipeline import Pipeline\n",
    "from sklearn.model_selection import GridSearchCV\n",
    "from sklearn.linear_model import LogisticRegression\n",
    "from sklearn.model_selection import train_test_split\n",
    "from sklearn.feature_extraction.text import CountVectorizer, ENGLISH_STOP_WORDS\n",
    "import regex as re\n",
    "import seaborn as sns\n",
    "import matplotlib.pyplot as plt\n",
    "\n",
    "%matplotlib inline"
   ]
  },
  {
   "cell_type": "code",
   "execution_count": 2,
   "metadata": {},
   "outputs": [],
   "source": [
    "df = pd.read_csv('clean_data2.csv')"
   ]
  },
  {
   "cell_type": "code",
   "execution_count": 3,
   "metadata": {},
   "outputs": [
    {
     "data": {
      "text/plain": [
       "3835"
      ]
     },
     "execution_count": 3,
     "metadata": {},
     "output_type": "execute_result"
    }
   ],
   "source": [
    "len(df)"
   ]
  },
  {
   "cell_type": "markdown",
   "metadata": {},
   "source": [
    "Setting up a dataframe for the model"
   ]
  },
  {
   "cell_type": "code",
   "execution_count": 4,
   "metadata": {},
   "outputs": [],
   "source": [
    "df1 = df[['slftxt_ttl', 'target']]"
   ]
  },
  {
   "cell_type": "markdown",
   "metadata": {},
   "source": [
    "I used built-in stop words in CountVectorizer, English stop words for the GridSearch, and I had to create s custom stop list in order to exclude gender related words"
   ]
  },
  {
   "cell_type": "code",
   "execution_count": 5,
   "metadata": {},
   "outputs": [],
   "source": [
    "stops = list(ENGLISH_STOP_WORDS)\n",
    "custom_stops = ['www', 'com', 'reddit', 'http', 'https',\\\n",
    "                'malefashionadvice', 'femalefashionadvice',\\\n",
    "                'mens', 'men', 'man', 'woman', 'women', 'womens', 'her', 'his']\n",
    "stops.extend(custom_stops)"
   ]
  },
  {
   "cell_type": "markdown",
   "metadata": {},
   "source": [
    "I used the function below to lemmatize and stemmatize the words for the model to see how it affects the model performance. Turns out, the default CountVectorizer preprocessing does a better job for the model performance."
   ]
  },
  {
   "cell_type": "code",
   "execution_count": 8,
   "metadata": {},
   "outputs": [],
   "source": [
    "def msgs_to_words(msgs):\n",
    "   \n",
    "    letters_only = re.sub(\"[^a-zA-Z]\", \" \", msgs)\n",
    "\n",
    "    words = letters_only.lower().split()\n",
    "    \n",
    "    lem_words = [lemmatizer.lemmatize(i) for i in words]\n",
    "    \n",
    "#     stem_words = [p_stemmer.stem(i) for i in words]\n",
    "    \n",
    "    meaningful_words = [w for w in words if not w in stops]\n",
    "\n",
    "    return(\" \".join(meaningful_words))"
   ]
  },
  {
   "cell_type": "code",
   "execution_count": 9,
   "metadata": {},
   "outputs": [
    {
     "name": "stderr",
     "output_type": "stream",
     "text": [
      "C:\\Users\\Rauan\\Anaconda3\\lib\\site-packages\\ipykernel_launcher.py:1: SettingWithCopyWarning: \n",
      "A value is trying to be set on a copy of a slice from a DataFrame.\n",
      "Try using .loc[row_indexer,col_indexer] = value instead\n",
      "\n",
      "See the caveats in the documentation: http://pandas.pydata.org/pandas-docs/stable/indexing.html#indexing-view-versus-copy\n",
      "  \"\"\"Entry point for launching an IPython kernel.\n"
     ]
    }
   ],
   "source": [
    "df1['slftxt_ttl'] = df1['slftxt_ttl'].apply(msgs_to_words)"
   ]
  },
  {
   "cell_type": "markdown",
   "metadata": {},
   "source": [
    "I created a new column to calculate the length of the post for two subreddits and plotted a histogram in order to see how they differ"
   ]
  },
  {
   "cell_type": "code",
   "execution_count": 10,
   "metadata": {},
   "outputs": [
    {
     "name": "stderr",
     "output_type": "stream",
     "text": [
      "C:\\Users\\Rauan\\Anaconda3\\lib\\site-packages\\ipykernel_launcher.py:1: SettingWithCopyWarning: \n",
      "A value is trying to be set on a copy of a slice from a DataFrame.\n",
      "Try using .loc[row_indexer,col_indexer] = value instead\n",
      "\n",
      "See the caveats in the documentation: http://pandas.pydata.org/pandas-docs/stable/indexing.html#indexing-view-versus-copy\n",
      "  \"\"\"Entry point for launching an IPython kernel.\n"
     ]
    }
   ],
   "source": [
    "df1['word_length'] = df1['slftxt_ttl'].apply(len)"
   ]
  },
  {
   "cell_type": "code",
   "execution_count": 11,
   "metadata": {},
   "outputs": [
    {
     "data": {
      "image/png": "[encoded data removed]",
      "text/plain": [
       "<Figure size 1008x360 with 2 Axes>"
      ]
     },
     "metadata": {
      "needs_background": "light"
     },
     "output_type": "display_data"
    }
   ],
   "source": [
    "df1.hist(column='word_length', by='target', bins=50, figsize=(14, 5));"
   ]
  },
  {
   "cell_type": "markdown",
   "metadata": {},
   "source": [
    "CountVectorizer with min_df set to 50 creates the following matrix, which I can then use to plot the most common words in the dataframe"
   ]
  },
  {
   "cell_type": "code",
   "execution_count": 12,
   "metadata": {},
   "outputs": [
    {
     "data": {
      "text/html": [
       "<div>\n",
       "<style scoped>\n",
       "    .dataframe tbody tr th:only-of-type {\n",
       "        vertical-align: middle;\n",
       "    }\n",
       "\n",
       "    .dataframe tbody tr th {\n",
       "        vertical-align: top;\n",
       "    }\n",
       "\n",
       "    .dataframe thead th {\n",
       "        text-align: right;\n",
       "    }\n",
       "</style>\n",
       "<table border=\"1\" class=\"dataframe\">\n",
       "  <thead>\n",
       "    <tr style=\"text-align: right;\">\n",
       "      <th></th>\n",
       "      <th>aautomoderator</th>\n",
       "      <th>able</th>\n",
       "      <th>absolutely</th>\n",
       "      <th>accessories</th>\n",
       "      <th>acronym</th>\n",
       "      <th>actual</th>\n",
       "      <th>actually</th>\n",
       "      <th>add</th>\n",
       "      <th>advance</th>\n",
       "      <th>advice</th>\n",
       "      <th>...</th>\n",
       "      <th>workwear</th>\n",
       "      <th>world</th>\n",
       "      <th>worn</th>\n",
       "      <th>worried</th>\n",
       "      <th>worth</th>\n",
       "      <th>wouldn</th>\n",
       "      <th>wrong</th>\n",
       "      <th>year</th>\n",
       "      <th>years</th>\n",
       "      <th>young</th>\n",
       "    </tr>\n",
       "  </thead>\n",
       "  <tbody>\n",
       "    <tr>\n",
       "      <th>0</th>\n",
       "      <td>6</td>\n",
       "      <td>0</td>\n",
       "      <td>0</td>\n",
       "      <td>1</td>\n",
       "      <td>0</td>\n",
       "      <td>0</td>\n",
       "      <td>0</td>\n",
       "      <td>0</td>\n",
       "      <td>0</td>\n",
       "      <td>6</td>\n",
       "      <td>...</td>\n",
       "      <td>1</td>\n",
       "      <td>0</td>\n",
       "      <td>0</td>\n",
       "      <td>0</td>\n",
       "      <td>0</td>\n",
       "      <td>0</td>\n",
       "      <td>0</td>\n",
       "      <td>0</td>\n",
       "      <td>0</td>\n",
       "      <td>0</td>\n",
       "    </tr>\n",
       "    <tr>\n",
       "      <th>1</th>\n",
       "      <td>0</td>\n",
       "      <td>0</td>\n",
       "      <td>0</td>\n",
       "      <td>1</td>\n",
       "      <td>0</td>\n",
       "      <td>0</td>\n",
       "      <td>0</td>\n",
       "      <td>1</td>\n",
       "      <td>0</td>\n",
       "      <td>1</td>\n",
       "      <td>...</td>\n",
       "      <td>0</td>\n",
       "      <td>0</td>\n",
       "      <td>0</td>\n",
       "      <td>0</td>\n",
       "      <td>0</td>\n",
       "      <td>0</td>\n",
       "      <td>0</td>\n",
       "      <td>0</td>\n",
       "      <td>0</td>\n",
       "      <td>0</td>\n",
       "    </tr>\n",
       "    <tr>\n",
       "      <th>2</th>\n",
       "      <td>0</td>\n",
       "      <td>0</td>\n",
       "      <td>0</td>\n",
       "      <td>0</td>\n",
       "      <td>0</td>\n",
       "      <td>0</td>\n",
       "      <td>0</td>\n",
       "      <td>0</td>\n",
       "      <td>0</td>\n",
       "      <td>0</td>\n",
       "      <td>...</td>\n",
       "      <td>0</td>\n",
       "      <td>0</td>\n",
       "      <td>0</td>\n",
       "      <td>0</td>\n",
       "      <td>0</td>\n",
       "      <td>0</td>\n",
       "      <td>0</td>\n",
       "      <td>0</td>\n",
       "      <td>0</td>\n",
       "      <td>0</td>\n",
       "    </tr>\n",
       "    <tr>\n",
       "      <th>3</th>\n",
       "      <td>0</td>\n",
       "      <td>0</td>\n",
       "      <td>0</td>\n",
       "      <td>0</td>\n",
       "      <td>0</td>\n",
       "      <td>0</td>\n",
       "      <td>0</td>\n",
       "      <td>0</td>\n",
       "      <td>0</td>\n",
       "      <td>0</td>\n",
       "      <td>...</td>\n",
       "      <td>0</td>\n",
       "      <td>0</td>\n",
       "      <td>0</td>\n",
       "      <td>0</td>\n",
       "      <td>0</td>\n",
       "      <td>0</td>\n",
       "      <td>0</td>\n",
       "      <td>0</td>\n",
       "      <td>0</td>\n",
       "      <td>0</td>\n",
       "    </tr>\n",
       "    <tr>\n",
       "      <th>4</th>\n",
       "      <td>0</td>\n",
       "      <td>0</td>\n",
       "      <td>0</td>\n",
       "      <td>0</td>\n",
       "      <td>0</td>\n",
       "      <td>0</td>\n",
       "      <td>0</td>\n",
       "      <td>0</td>\n",
       "      <td>0</td>\n",
       "      <td>0</td>\n",
       "      <td>...</td>\n",
       "      <td>0</td>\n",
       "      <td>0</td>\n",
       "      <td>0</td>\n",
       "      <td>0</td>\n",
       "      <td>0</td>\n",
       "      <td>0</td>\n",
       "      <td>0</td>\n",
       "      <td>0</td>\n",
       "      <td>0</td>\n",
       "      <td>0</td>\n",
       "    </tr>\n",
       "    <tr>\n",
       "      <th>5</th>\n",
       "      <td>0</td>\n",
       "      <td>0</td>\n",
       "      <td>0</td>\n",
       "      <td>0</td>\n",
       "      <td>0</td>\n",
       "      <td>0</td>\n",
       "      <td>0</td>\n",
       "      <td>0</td>\n",
       "      <td>0</td>\n",
       "      <td>0</td>\n",
       "      <td>...</td>\n",
       "      <td>0</td>\n",
       "      <td>1</td>\n",
       "      <td>1</td>\n",
       "      <td>0</td>\n",
       "      <td>0</td>\n",
       "      <td>0</td>\n",
       "      <td>0</td>\n",
       "      <td>0</td>\n",
       "      <td>0</td>\n",
       "      <td>0</td>\n",
       "    </tr>\n",
       "    <tr>\n",
       "      <th>6</th>\n",
       "      <td>0</td>\n",
       "      <td>0</td>\n",
       "      <td>0</td>\n",
       "      <td>0</td>\n",
       "      <td>0</td>\n",
       "      <td>0</td>\n",
       "      <td>0</td>\n",
       "      <td>0</td>\n",
       "      <td>0</td>\n",
       "      <td>0</td>\n",
       "      <td>...</td>\n",
       "      <td>0</td>\n",
       "      <td>0</td>\n",
       "      <td>0</td>\n",
       "      <td>0</td>\n",
       "      <td>0</td>\n",
       "      <td>0</td>\n",
       "      <td>0</td>\n",
       "      <td>0</td>\n",
       "      <td>0</td>\n",
       "      <td>0</td>\n",
       "    </tr>\n",
       "    <tr>\n",
       "      <th>7</th>\n",
       "      <td>0</td>\n",
       "      <td>0</td>\n",
       "      <td>0</td>\n",
       "      <td>0</td>\n",
       "      <td>0</td>\n",
       "      <td>0</td>\n",
       "      <td>0</td>\n",
       "      <td>0</td>\n",
       "      <td>0</td>\n",
       "      <td>0</td>\n",
       "      <td>...</td>\n",
       "      <td>0</td>\n",
       "      <td>0</td>\n",
       "      <td>0</td>\n",
       "      <td>0</td>\n",
       "      <td>0</td>\n",
       "      <td>0</td>\n",
       "      <td>0</td>\n",
       "      <td>0</td>\n",
       "      <td>0</td>\n",
       "      <td>0</td>\n",
       "    </tr>\n",
       "    <tr>\n",
       "      <th>8</th>\n",
       "      <td>0</td>\n",
       "      <td>0</td>\n",
       "      <td>1</td>\n",
       "      <td>0</td>\n",
       "      <td>0</td>\n",
       "      <td>0</td>\n",
       "      <td>0</td>\n",
       "      <td>0</td>\n",
       "      <td>0</td>\n",
       "      <td>0</td>\n",
       "      <td>...</td>\n",
       "      <td>0</td>\n",
       "      <td>0</td>\n",
       "      <td>0</td>\n",
       "      <td>0</td>\n",
       "      <td>0</td>\n",
       "      <td>0</td>\n",
       "      <td>0</td>\n",
       "      <td>0</td>\n",
       "      <td>0</td>\n",
       "      <td>0</td>\n",
       "    </tr>\n",
       "    <tr>\n",
       "      <th>9</th>\n",
       "      <td>1</td>\n",
       "      <td>0</td>\n",
       "      <td>0</td>\n",
       "      <td>0</td>\n",
       "      <td>0</td>\n",
       "      <td>0</td>\n",
       "      <td>0</td>\n",
       "      <td>0</td>\n",
       "      <td>0</td>\n",
       "      <td>0</td>\n",
       "      <td>...</td>\n",
       "      <td>0</td>\n",
       "      <td>0</td>\n",
       "      <td>0</td>\n",
       "      <td>0</td>\n",
       "      <td>0</td>\n",
       "      <td>0</td>\n",
       "      <td>0</td>\n",
       "      <td>0</td>\n",
       "      <td>0</td>\n",
       "      <td>0</td>\n",
       "    </tr>\n",
       "  </tbody>\n",
       "</table>\n",
       "<p>10 rows × 808 columns</p>\n",
       "</div>"
      ],
      "text/plain": [
       "   aautomoderator  able  absolutely  accessories  acronym  actual  actually  \\\n",
       "0               6     0           0            1        0       0         0   \n",
       "1               0     0           0            1        0       0         0   \n",
       "2               0     0           0            0        0       0         0   \n",
       "3               0     0           0            0        0       0         0   \n",
       "4               0     0           0            0        0       0         0   \n",
       "5               0     0           0            0        0       0         0   \n",
       "6               0     0           0            0        0       0         0   \n",
       "7               0     0           0            0        0       0         0   \n",
       "8               0     0           1            0        0       0         0   \n",
       "9               1     0           0            0        0       0         0   \n",
       "\n",
       "   add  advance  advice  ...  workwear  world  worn  worried  worth  wouldn  \\\n",
       "0    0        0       6  ...         1      0     0        0      0       0   \n",
       "1    1        0       1  ...         0      0     0        0      0       0   \n",
       "2    0        0       0  ...         0      0     0        0      0       0   \n",
       "3    0        0       0  ...         0      0     0        0      0       0   \n",
       "4    0        0       0  ...         0      0     0        0      0       0   \n",
       "5    0        0       0  ...         0      1     1        0      0       0   \n",
       "6    0        0       0  ...         0      0     0        0      0       0   \n",
       "7    0        0       0  ...         0      0     0        0      0       0   \n",
       "8    0        0       0  ...         0      0     0        0      0       0   \n",
       "9    0        0       0  ...         0      0     0        0      0       0   \n",
       "\n",
       "   wrong  year  years  young  \n",
       "0      0     0      0      0  \n",
       "1      0     0      0      0  \n",
       "2      0     0      0      0  \n",
       "3      0     0      0      0  \n",
       "4      0     0      0      0  \n",
       "5      0     0      0      0  \n",
       "6      0     0      0      0  \n",
       "7      0     0      0      0  \n",
       "8      0     0      0      0  \n",
       "9      0     0      0      0  \n",
       "\n",
       "[10 rows x 808 columns]"
      ]
     },
     "execution_count": 12,
     "metadata": {},
     "output_type": "execute_result"
    }
   ],
   "source": [
    "cvec = CountVectorizer(min_df=50)\n",
    "\n",
    "sparse_matrix = cvec.fit_transform(df1['slftxt_ttl'])\n",
    "\n",
    "dense_matrix = sparse_matrix.todense()\n",
    "\n",
    "feature_df = pd.DataFrame(dense_matrix, columns=cvec.get_feature_names())\n",
    "feature_df.head(10)"
   ]
  },
  {
   "cell_type": "markdown",
   "metadata": {},
   "source": [
    "Since the two subreddits I chose are related to fashion, the most common words should obviously be related to fashion somehow, i.e. 'fashion', 'style', 'look', 'wear', 'clothes'. But also the words such as 'thread' or 'question' are specific to the nature of subreddits, since those two are 'Malefashionadvice' and 'Femalefashionadvice', people would generate threads to discuss the trend or certain look, seek advice and thus pose questions."
   ]
  },
  {
   "cell_type": "code",
   "execution_count": 13,
   "metadata": {},
   "outputs": [
    {
     "data": {
      "image/png": "[encoded data removed]",
      "text/plain": [
       "<Figure size 864x720 with 1 Axes>"
      ]
     },
     "metadata": {
      "needs_background": "light"
     },
     "output_type": "display_data"
    }
   ],
   "source": [
    "feature_df.sum().sort_values(ascending=False).head(20).plot(kind='barh', figsize=(12,10), colormap='Spectral')\n",
    "plt.yticks(fontsize=14)\n",
    "plt.title('Most common words', fontsize=24);"
   ]
  },
  {
   "cell_type": "markdown",
   "metadata": {},
   "source": [
    "I created the most common words for two subreddits in order to find out which words are used more.\n",
    "The graphs below show that although there are many overlapping common words, some a really specific to the particular subreddit. Women tend to say **'How to dress?', 'Want', 'Wear', 'Fashion'** are more frequently than men in their respective subreddit. The most common words in male subreddits are **shirt and shoes**, and strangely 'amp' which stands for **_&_** sign which leads me to thinking that men tend to abbreviate and shorten their posts more than women do."
   ]
  },
  {
   "cell_type": "code",
   "execution_count": 14,
   "metadata": {},
   "outputs": [],
   "source": [
    "female = feature_df.loc[df1['target'] == 0, :].copy()\n",
    "male = feature_df.loc[df1['target'] == 1, :].copy()"
   ]
  },
  {
   "cell_type": "code",
   "execution_count": 15,
   "metadata": {},
   "outputs": [
    {
     "data": {
      "image/png": "[encoded data removed]",
      "text/plain": [
       "<Figure size 864x576 with 1 Axes>"
      ]
     },
     "metadata": {
      "needs_background": "light"
     },
     "output_type": "display_data"
    }
   ],
   "source": [
    "female.sum().sort_values(ascending=False).head(20).plot(kind='barh', color='pink', figsize=(12,8))\n",
    "plt.yticks(fontsize=13)\n",
    "plt.title('Most common words in female subreddit', fontsize=18);"
   ]
  },
  {
   "cell_type": "code",
   "execution_count": 16,
   "metadata": {},
   "outputs": [
    {
     "data": {
      "image/png": "[encoded data removed]",
      "text/plain": [
       "<Figure size 864x576 with 1 Axes>"
      ]
     },
     "metadata": {
      "needs_background": "light"
     },
     "output_type": "display_data"
    }
   ],
   "source": [
    "male.sum().sort_values(ascending=False).head(20).plot(kind='barh', color='skyblue', figsize=(12,8))\n",
    "plt.yticks(fontsize=13)\n",
    "plt.title('Most common words in male subreddit', fontsize=18);"
   ]
  },
  {
   "cell_type": "markdown",
   "metadata": {},
   "source": [
    "I wanted to compare the use of the most common words overall in the dataframe side by side. From the graphs below it is pretty obvious that female subreddit uses words that describe emotions such as **feel, want** more frequently than men, as well as words as **fashion, style, wear**."
   ]
  },
  {
   "cell_type": "code",
   "execution_count": 17,
   "metadata": {},
   "outputs": [],
   "source": [
    "common_words = feature_df.sum().sort_values(ascending=False).head(25).index"
   ]
  },
  {
   "cell_type": "code",
   "execution_count": 18,
   "metadata": {},
   "outputs": [],
   "source": [
    "# female = feature_df[df['subreddit']=='femalefashionadvice']"
   ]
  },
  {
   "cell_type": "code",
   "execution_count": 19,
   "metadata": {},
   "outputs": [
    {
     "data": {
      "text/plain": [
       "Index(['amp', 'like', 'thread', 'questions', 'just', 'new', 'don', 'wear',\n",
       "       'fashion', 'style', 'want', 've', 'look', 'daily', 'know', 'feel',\n",
       "       'good', 'shirts', 'clothes', 'post', 'dress', 'really', 'looking',\n",
       "       'shoes', 'comments'],\n",
       "      dtype='object')"
      ]
     },
     "execution_count": 19,
     "metadata": {},
     "output_type": "execute_result"
    }
   ],
   "source": [
    "common_words"
   ]
  },
  {
   "cell_type": "code",
   "execution_count": 20,
   "metadata": {},
   "outputs": [],
   "source": [
    "# male = feature_df[df['subreddit']=='malefashionadvice']"
   ]
  },
  {
   "cell_type": "code",
   "execution_count": 21,
   "metadata": {},
   "outputs": [
    {
     "data": {
      "image/png": "[encoded data removed]",
      "text/plain": [
       "<Figure size 1008x720 with 2 Axes>"
      ]
     },
     "metadata": {
      "needs_background": "light"
     },
     "output_type": "display_data"
    }
   ],
   "source": [
    "fig, (ax1, ax2) = plt.subplots(ncols=2, figsize=(14,10))\n",
    "female[common_words].sum().plot.barh(ax=ax1, title='Female Fashion Advice', color='pink')\n",
    "male[common_words].sum().plot.barh(ax=ax2, title='Male Fashion Advice', color='lightblue');"
   ]
  },
  {
   "cell_type": "code",
   "execution_count": 22,
   "metadata": {},
   "outputs": [],
   "source": [
    "common_words2 = feature_df.sum().sort_values(ascending=False).head(15).index"
   ]
  },
  {
   "cell_type": "code",
   "execution_count": 23,
   "metadata": {},
   "outputs": [
    {
     "data": {
      "image/png": "[encoded data removed]",
      "text/plain": [
       "<Figure size 1008x432 with 1 Axes>"
      ]
     },
     "metadata": {
      "needs_background": "light"
     },
     "output_type": "display_data"
    }
   ],
   "source": [
    "fig, ax = plt.subplots(figsize=(14,6))\n",
    "\n",
    "feature_df.groupby(df['subreddit']).sum()[common_words2].plot.bar(ax=ax, width=.8, colormap='spring_r')\n",
    "\n",
    "ax.set_title('Most used words', fontsize=18);"
   ]
  },
  {
   "cell_type": "markdown",
   "metadata": {},
   "source": [
    "The function below returns word counts and sentence length, which I used to compare the overall posts length between the subreddits. It is quite obvious that female fashion advice subreddit posts are longer in length and contain more words as opposed to male fashion advice which tend to contain fewer words. Moreover male fashion advice subreddit contains around quarter null values in the post section, althouth male fashion advice subreddit has 3 times more subscribers than female fashion advice subreddit. In my opinion, this is due to that women have more fashion resources available to them.\n",
    "\n",
    "Absence of the text in the posts is due the nature of the post, where poster poses a question in the title section of the post. Posters in female subreddit however tend to fill in the post with the text, whereas posters in male subreddit tend to leave the post section blank."
   ]
  },
  {
   "cell_type": "code",
   "execution_count": 24,
   "metadata": {},
   "outputs": [],
   "source": [
    "def get_lengths(df_in):\n",
    "    words = [len(sen.split(' ')) for sen in df1.loc[df_in.index, 'slftxt_ttl']\\\n",
    "            if len(sen.split(' ')) < 175]\n",
    "    length = [len(sen) for sen in df1.loc[df_in.index,'slftxt_ttl']\\\n",
    "             if len(sen) < 700]\n",
    "    return words, length   "
   ]
  },
  {
   "cell_type": "code",
   "execution_count": 25,
   "metadata": {},
   "outputs": [],
   "source": [
    "fem_words, fem_length = get_lengths(female)\n",
    "\n",
    "male_words, male_length = get_lengths(male)"
   ]
  },
  {
   "cell_type": "code",
   "execution_count": 26,
   "metadata": {},
   "outputs": [
    {
     "data": {
      "image/png": "[encoded data removed]",
      "text/plain": [
       "<Figure size 864x432 with 1 Axes>"
      ]
     },
     "metadata": {
      "needs_background": "light"
     },
     "output_type": "display_data"
    }
   ],
   "source": [
    "fig, ax = plt.subplots(figsize=(12,6))\n",
    "\n",
    "sns.distplot(male_words, label='Male Fashion Advice', ax=ax, color='blue')\n",
    "\n",
    "sns.distplot(fem_words, label='Female Fashion Advice', ax=ax, color='pink')\n",
    "\n",
    "ax.legend()\n",
    "plt.title('Number of words in a post', fontsize=22);"
   ]
  },
  {
   "cell_type": "code",
   "execution_count": 27,
   "metadata": {},
   "outputs": [
    {
     "data": {
      "image/png": "[encoded data removed]",
      "text/plain": [
       "<Figure size 864x432 with 1 Axes>"
      ]
     },
     "metadata": {
      "needs_background": "light"
     },
     "output_type": "display_data"
    }
   ],
   "source": [
    "fig, ax = plt.subplots(figsize=(12,6))\n",
    "\n",
    "sns.distplot(male_length, label='Male Fashion Advice', ax=ax, color='blue')\n",
    "\n",
    "sns.distplot(fem_length, label='Female Fashion Advice', ax=ax, color='pink')\n",
    "\n",
    "ax.legend()\n",
    "plt.title('Sentence length in a post', fontsize=22);\n",
    "# ax.set_xbound(-10, 125);"
   ]
  },
  {
   "cell_type": "code",
   "execution_count": 28,
   "metadata": {},
   "outputs": [
    {
     "data": {
      "image/png": "[encoded data removed]",
      "text/plain": [
       "<Figure size 432x288 with 1 Axes>"
      ]
     },
     "metadata": {
      "needs_background": "light"
     },
     "output_type": "display_data"
    }
   ],
   "source": [
    "df.groupby(df['selftext'].isnull())['subreddit'].value_counts().plot(kind='bar', color='purple');"
   ]
  },
  {
   "cell_type": "code",
   "execution_count": 29,
   "metadata": {},
   "outputs": [
    {
     "data": {
      "image/png": "[encoded data removed]",
      "text/plain": [
       "<Figure size 432x288 with 1 Axes>"
      ]
     },
     "metadata": {
      "needs_background": "light"
     },
     "output_type": "display_data"
    }
   ],
   "source": [
    "x = ['Male Fashion Advice', 'Female Fashion Advice']\n",
    "y = [550, 19]\n",
    "plt.bar(x, y, color='purple')\n",
    "plt.title('Number of missing posts', fontsize=18);"
   ]
  },
  {
   "cell_type": "markdown",
   "metadata": {},
   "source": [
    "## <a name = 'Model' style = 'color: black'>Model performance and analysis</a>"
   ]
  },
  {
   "cell_type": "markdown",
   "metadata": {},
   "source": [
    "Splitting the data and GridSearching for best parameters:\n",
    "\n",
    "\n",
    " - I used several lists of stop words and customs words. Custom words list rids off gender related words such as **Men, Women, His, Her** and those words are also added to the English stop words. I used build in CountVectorizer English stop words in [Initial Model Notebook](./Model_2.ipynb) which wasn't picked as best parameters by the GridSearch, so I dropped that list in this section of parameter search\n",
    " \n",
    " \n",
    " - Logistic regression performed better than the Naive Bayes model and also it is more interpretable in terms of this project, so I used LR in the Pipeline. As you can see the model performs really good:\n",
    " \n",
    "         - True positive rate is 100% which is to say that there are zero False Positives, but in the case of this model it doesn't really matter which rate to maximize or what Type of Error to minimize since it doesn't have a significant consequences as in the medical classification model for instance.\n",
    "         \n",
    "         - True negative rate is 98% which is also really good\n",
    "         \n",
    "\n",
    " - Using combination of one and two words is certainly best for this model since we can already draw from the EDA above and from the [Coefficient analysis](#Coefficient) that the stop words in combination and by themselves are very good predictors of whether the post comes from male subreddit or female subreddit\n",
    " \n",
    " \n",
    " - For the final model I used Logistic Regression, although I haven't GridSearched over it parameters. The model is excellent as is for this project."
   ]
  },
  {
   "cell_type": "code",
   "execution_count": 30,
   "metadata": {},
   "outputs": [],
   "source": [
    "X_train, X_test, y_train, y_test = train_test_split(df['slftxt_ttl'], df['target'], random_state=42)"
   ]
  },
  {
   "cell_type": "code",
   "execution_count": 31,
   "metadata": {},
   "outputs": [],
   "source": [
    "pipe = Pipeline([('cvec', CountVectorizer()),\n",
    "                ('lr', LogisticRegression())])"
   ]
  },
  {
   "cell_type": "code",
   "execution_count": 32,
   "metadata": {
    "scrolled": true
   },
   "outputs": [
    {
     "name": "stdout",
     "output_type": "stream",
     "text": [
      "Fitting 3 folds for each of 48 candidates, totalling 144 fits\n"
     ]
    },
    {
     "name": "stderr",
     "output_type": "stream",
     "text": [
      "[Parallel(n_jobs=1)]: Using backend SequentialBackend with 1 concurrent workers.\n",
      "C:\\Users\\Rauan\\Anaconda3\\lib\\site-packages\\sklearn\\linear_model\\logistic.py:433: FutureWarning: Default solver will be changed to 'lbfgs' in 0.22. Specify a solver to silence this warning.\n",
      "  FutureWarning)\n",
      "[Parallel(n_jobs=1)]: Done 144 out of 144 | elapsed:  2.5min finished\n"
     ]
    },
    {
     "name": "stdout",
     "output_type": "stream",
     "text": [
      "0.9763560500695411\n"
     ]
    },
    {
     "data": {
      "text/plain": [
       "{'cvec__max_df': 0.9,\n",
       " 'cvec__max_features': 2000,\n",
       " 'cvec__min_df': 30,\n",
       " 'cvec__ngram_range': (1, 2),\n",
       " 'cvec__stop_words': ['www',\n",
       "  'com',\n",
       "  'reddit',\n",
       "  'http',\n",
       "  'https',\n",
       "  'malefashionadvice',\n",
       "  'femalefashionadvice',\n",
       "  'mens',\n",
       "  'men',\n",
       "  'man',\n",
       "  'woman',\n",
       "  'women',\n",
       "  'womens',\n",
       "  'her',\n",
       "  'his']}"
      ]
     },
     "execution_count": 32,
     "metadata": {},
     "output_type": "execute_result"
    }
   ],
   "source": [
    "params = {\n",
    "    'cvec__max_features': [1000, 2000, 3000],\n",
    "    'cvec__min_df': [30, 50],\n",
    "    'cvec__max_df': [.9, .95],\n",
    "    'cvec__ngram_range': [(1,1), (1,2)],\n",
    "    'cvec__stop_words': [stops, custom_stops]\n",
    "}\n",
    "gs = GridSearchCV(pipe, param_grid=params, cv=3, verbose=1)\n",
    "gs.fit(X_train, y_train)\n",
    "print(gs.best_score_)\n",
    "gs.best_params_"
   ]
  },
  {
   "cell_type": "code",
   "execution_count": 33,
   "metadata": {},
   "outputs": [
    {
     "data": {
      "text/plain": [
       "1.0"
      ]
     },
     "execution_count": 33,
     "metadata": {},
     "output_type": "execute_result"
    }
   ],
   "source": [
    "gs.score(X_train, y_train)"
   ]
  },
  {
   "cell_type": "code",
   "execution_count": 34,
   "metadata": {},
   "outputs": [
    {
     "data": {
      "text/plain": [
       "0.9916579770594369"
      ]
     },
     "execution_count": 34,
     "metadata": {},
     "output_type": "execute_result"
    }
   ],
   "source": [
    "gs.score(X_test, y_test)"
   ]
  },
  {
   "cell_type": "code",
   "execution_count": 35,
   "metadata": {},
   "outputs": [],
   "source": [
    "pred = gs.predict(X_test)"
   ]
  },
  {
   "cell_type": "code",
   "execution_count": 36,
   "metadata": {},
   "outputs": [
    {
     "data": {
      "text/html": [
       "<div>\n",
       "<style scoped>\n",
       "    .dataframe tbody tr th:only-of-type {\n",
       "        vertical-align: middle;\n",
       "    }\n",
       "\n",
       "    .dataframe tbody tr th {\n",
       "        vertical-align: top;\n",
       "    }\n",
       "\n",
       "    .dataframe thead th {\n",
       "        text-align: right;\n",
       "    }\n",
       "</style>\n",
       "<table border=\"1\" class=\"dataframe\">\n",
       "  <thead>\n",
       "    <tr style=\"text-align: right;\">\n",
       "      <th></th>\n",
       "      <th>pred female</th>\n",
       "      <th>pred male</th>\n",
       "    </tr>\n",
       "  </thead>\n",
       "  <tbody>\n",
       "    <tr>\n",
       "      <th>actual female</th>\n",
       "      <td>464</td>\n",
       "      <td>0</td>\n",
       "    </tr>\n",
       "    <tr>\n",
       "      <th>actual male</th>\n",
       "      <td>8</td>\n",
       "      <td>487</td>\n",
       "    </tr>\n",
       "  </tbody>\n",
       "</table>\n",
       "</div>"
      ],
      "text/plain": [
       "               pred female  pred male\n",
       "actual female          464          0\n",
       "actual male              8        487"
      ]
     },
     "execution_count": 36,
     "metadata": {},
     "output_type": "execute_result"
    }
   ],
   "source": [
    "pd.DataFrame(confusion_matrix(pred, y_test),\n",
    "            columns=['pred female', 'pred male'], index=['actual female', 'actual male'])"
   ]
  },
  {
   "cell_type": "code",
   "execution_count": 37,
   "metadata": {},
   "outputs": [
    {
     "name": "stdout",
     "output_type": "stream",
     "text": [
      "              precision    recall  f1-score   support\n",
      "\n",
      "           0       1.00      0.98      0.99       472\n",
      "           1       0.98      1.00      0.99       487\n",
      "\n",
      "   micro avg       0.99      0.99      0.99       959\n",
      "   macro avg       0.99      0.99      0.99       959\n",
      "weighted avg       0.99      0.99      0.99       959\n",
      "\n"
     ]
    }
   ],
   "source": [
    "print(classification_report(y_test, pred))"
   ]
  },
  {
   "cell_type": "markdown",
   "metadata": {},
   "source": [
    "### Final Model"
   ]
  },
  {
   "cell_type": "code",
   "execution_count": 38,
   "metadata": {},
   "outputs": [],
   "source": [
    "cvec = CountVectorizer(max_df=0.9,\n",
    "                       max_features=2000,\n",
    "                       min_df=50,\n",
    "                       ngram_range=(1, 2),\n",
    "                       stop_words=custom_stops)\n",
    "X_train_cvec = cvec.fit_transform(X_train)\n",
    "X_test_cvec = cvec.transform(X_test)"
   ]
  },
  {
   "cell_type": "code",
   "execution_count": 39,
   "metadata": {},
   "outputs": [
    {
     "name": "stdout",
     "output_type": "stream",
     "text": [
      "1.0\n",
      "0.9916579770594369\n"
     ]
    }
   ],
   "source": [
    "lr = LogisticRegression()\n",
    "lr.fit(X_train_cvec, y_train)\n",
    "print(lr.score(X_train_cvec, y_train))\n",
    "print(lr.score(X_test_cvec, y_test))"
   ]
  },
  {
   "cell_type": "markdown",
   "metadata": {},
   "source": [
    "## <a name = 'Coefficient' style = 'color: black'>Coefficients analysis</a>"
   ]
  },
  {
   "cell_type": "markdown",
   "metadata": {},
   "source": [
    "It can be seen from graph below that **Getting, Cute, Dresses and Love** are huge predictors of the female thread. What surprised me was that **History and Vintage** were assigned stronger coefficients for male thread. My guess is that these words are more meaningful for the male thread in terms of invoking or explaining fashion\n",
    "\n",
    "\n",
    "The combination of **and it** is a very good predictor that the post belongs to femalefashionadvice since most common word in the male thread is **&** sign."
   ]
  },
  {
   "cell_type": "code",
   "execution_count": 40,
   "metadata": {},
   "outputs": [],
   "source": [
    "coef_df = pd.DataFrame(lr.coef_, columns=cvec.get_feature_names()).T"
   ]
  },
  {
   "cell_type": "code",
   "execution_count": 41,
   "metadata": {},
   "outputs": [
    {
     "data": {
      "text/html": [
       "<div>\n",
       "<style scoped>\n",
       "    .dataframe tbody tr th:only-of-type {\n",
       "        vertical-align: middle;\n",
       "    }\n",
       "\n",
       "    .dataframe tbody tr th {\n",
       "        vertical-align: top;\n",
       "    }\n",
       "\n",
       "    .dataframe thead th {\n",
       "        text-align: right;\n",
       "    }\n",
       "</style>\n",
       "<table border=\"1\" class=\"dataframe\">\n",
       "  <thead>\n",
       "    <tr style=\"text-align: right;\">\n",
       "      <th></th>\n",
       "      <th>0</th>\n",
       "    </tr>\n",
       "  </thead>\n",
       "  <tbody>\n",
       "    <tr>\n",
       "      <th>advice</th>\n",
       "      <td>1.187499</td>\n",
       "    </tr>\n",
       "    <tr>\n",
       "      <th>chinos</th>\n",
       "      <td>1.102618</td>\n",
       "    </tr>\n",
       "    <tr>\n",
       "      <th>spring summer</th>\n",
       "      <td>1.045208</td>\n",
       "    </tr>\n",
       "    <tr>\n",
       "      <th>should</th>\n",
       "      <td>1.040590</td>\n",
       "    </tr>\n",
       "    <tr>\n",
       "      <th>vintage</th>\n",
       "      <td>1.028153</td>\n",
       "    </tr>\n",
       "    <tr>\n",
       "      <th>casual</th>\n",
       "      <td>0.997952</td>\n",
       "    </tr>\n",
       "    <tr>\n",
       "      <th>history</th>\n",
       "      <td>0.986958</td>\n",
       "    </tr>\n",
       "    <tr>\n",
       "      <th>worn</th>\n",
       "      <td>0.957471</td>\n",
       "    </tr>\n",
       "    <tr>\n",
       "      <th>again</th>\n",
       "      <td>0.906349</td>\n",
       "    </tr>\n",
       "    <tr>\n",
       "      <th>and what</th>\n",
       "      <td>0.814843</td>\n",
       "    </tr>\n",
       "    <tr>\n",
       "      <th>people</th>\n",
       "      <td>0.814477</td>\n",
       "    </tr>\n",
       "    <tr>\n",
       "      <th>suit</th>\n",
       "      <td>0.804794</td>\n",
       "    </tr>\n",
       "    <tr>\n",
       "      <th>thanks</th>\n",
       "      <td>0.788443</td>\n",
       "    </tr>\n",
       "    <tr>\n",
       "      <th>old</th>\n",
       "      <td>0.770981</td>\n",
       "    </tr>\n",
       "    <tr>\n",
       "      <th>thanks in</th>\n",
       "      <td>0.769607</td>\n",
       "    </tr>\n",
       "    <tr>\n",
       "      <th>denim</th>\n",
       "      <td>0.765498</td>\n",
       "    </tr>\n",
       "    <tr>\n",
       "      <th>details</th>\n",
       "      <td>0.749350</td>\n",
       "    </tr>\n",
       "    <tr>\n",
       "      <th>guide</th>\n",
       "      <td>0.748141</td>\n",
       "    </tr>\n",
       "    <tr>\n",
       "      <th>like to</th>\n",
       "      <td>0.740717</td>\n",
       "    </tr>\n",
       "    <tr>\n",
       "      <th>liked</th>\n",
       "      <td>0.740047</td>\n",
       "    </tr>\n",
       "  </tbody>\n",
       "</table>\n",
       "</div>"
      ],
      "text/plain": [
       "                      0\n",
       "advice         1.187499\n",
       "chinos         1.102618\n",
       "spring summer  1.045208\n",
       "should         1.040590\n",
       "vintage        1.028153\n",
       "casual         0.997952\n",
       "history        0.986958\n",
       "worn           0.957471\n",
       "again          0.906349\n",
       "and what       0.814843\n",
       "people         0.814477\n",
       "suit           0.804794\n",
       "thanks         0.788443\n",
       "old            0.770981\n",
       "thanks in      0.769607\n",
       "denim          0.765498\n",
       "details        0.749350\n",
       "guide          0.748141\n",
       "like to        0.740717\n",
       "liked          0.740047"
      ]
     },
     "execution_count": 41,
     "metadata": {},
     "output_type": "execute_result"
    }
   ],
   "source": [
    "coef_df.nlargest(20, 0)"
   ]
  },
  {
   "cell_type": "code",
   "execution_count": 42,
   "metadata": {},
   "outputs": [
    {
     "data": {
      "text/html": [
       "<div>\n",
       "<style scoped>\n",
       "    .dataframe tbody tr th:only-of-type {\n",
       "        vertical-align: middle;\n",
       "    }\n",
       "\n",
       "    .dataframe tbody tr th {\n",
       "        vertical-align: top;\n",
       "    }\n",
       "\n",
       "    .dataframe thead th {\n",
       "        text-align: right;\n",
       "    }\n",
       "</style>\n",
       "<table border=\"1\" class=\"dataframe\">\n",
       "  <thead>\n",
       "    <tr style=\"text-align: right;\">\n",
       "      <th></th>\n",
       "      <th>0</th>\n",
       "    </tr>\n",
       "  </thead>\n",
       "  <tbody>\n",
       "    <tr>\n",
       "      <th>love</th>\n",
       "      <td>-1.328683</td>\n",
       "    </tr>\n",
       "    <tr>\n",
       "      <th>dresses</th>\n",
       "      <td>-1.205222</td>\n",
       "    </tr>\n",
       "    <tr>\n",
       "      <th>cute</th>\n",
       "      <td>-1.138702</td>\n",
       "    </tr>\n",
       "    <tr>\n",
       "      <th>getting</th>\n",
       "      <td>-1.108294</td>\n",
       "    </tr>\n",
       "    <tr>\n",
       "      <th>those</th>\n",
       "      <td>-1.090880</td>\n",
       "    </tr>\n",
       "    <tr>\n",
       "      <th>ffa</th>\n",
       "      <td>-1.027747</td>\n",
       "    </tr>\n",
       "    <tr>\n",
       "      <th>black</th>\n",
       "      <td>-1.010040</td>\n",
       "    </tr>\n",
       "    <tr>\n",
       "      <th>and it</th>\n",
       "      <td>-0.988795</td>\n",
       "    </tr>\n",
       "    <tr>\n",
       "      <th>every</th>\n",
       "      <td>-0.929711</td>\n",
       "    </tr>\n",
       "    <tr>\n",
       "      <th>here</th>\n",
       "      <td>-0.929500</td>\n",
       "    </tr>\n",
       "    <tr>\n",
       "      <th>often</th>\n",
       "      <td>-0.927607</td>\n",
       "    </tr>\n",
       "    <tr>\n",
       "      <th>what</th>\n",
       "      <td>-0.925755</td>\n",
       "    </tr>\n",
       "    <tr>\n",
       "      <th>being</th>\n",
       "      <td>-0.923697</td>\n",
       "    </tr>\n",
       "    <tr>\n",
       "      <th>without</th>\n",
       "      <td>-0.905525</td>\n",
       "    </tr>\n",
       "    <tr>\n",
       "      <th>inspo album</th>\n",
       "      <td>-0.900430</td>\n",
       "    </tr>\n",
       "    <tr>\n",
       "      <th>recommendations</th>\n",
       "      <td>-0.892424</td>\n",
       "    </tr>\n",
       "    <tr>\n",
       "      <th>wear them</th>\n",
       "      <td>-0.876618</td>\n",
       "    </tr>\n",
       "    <tr>\n",
       "      <th>office</th>\n",
       "      <td>-0.860336</td>\n",
       "    </tr>\n",
       "    <tr>\n",
       "      <th>thoughts</th>\n",
       "      <td>-0.846200</td>\n",
       "    </tr>\n",
       "    <tr>\n",
       "      <th>could</th>\n",
       "      <td>-0.844473</td>\n",
       "    </tr>\n",
       "  </tbody>\n",
       "</table>\n",
       "</div>"
      ],
      "text/plain": [
       "                        0\n",
       "love            -1.328683\n",
       "dresses         -1.205222\n",
       "cute            -1.138702\n",
       "getting         -1.108294\n",
       "those           -1.090880\n",
       "ffa             -1.027747\n",
       "black           -1.010040\n",
       "and it          -0.988795\n",
       "every           -0.929711\n",
       "here            -0.929500\n",
       "often           -0.927607\n",
       "what            -0.925755\n",
       "being           -0.923697\n",
       "without         -0.905525\n",
       "inspo album     -0.900430\n",
       "recommendations -0.892424\n",
       "wear them       -0.876618\n",
       "office          -0.860336\n",
       "thoughts        -0.846200\n",
       "could           -0.844473"
      ]
     },
     "execution_count": 42,
     "metadata": {},
     "output_type": "execute_result"
    }
   ],
   "source": [
    "coef_df.nsmallest(20, 0)"
   ]
  },
  {
   "cell_type": "code",
   "execution_count": 43,
   "metadata": {},
   "outputs": [
    {
     "data": {
      "image/png": "[encoded data removed]",
      "text/plain": [
       "<Figure size 1152x720 with 1 Axes>"
      ]
     },
     "metadata": {
      "needs_background": "light"
     },
     "output_type": "display_data"
    }
   ],
   "source": [
    "coef_df['abs_coef'] = coef_df[0].abs()\n",
    "coef_df.sort_values('abs_coef', ascending=False)[0].head(20)\\\n",
    ".plot(kind='barh', figsize=(16,10), colormap='rainbow')\n",
    "plt.title('Most impactful words', fontsize=18)\n",
    "plt.yticks(fontsize=14);"
   ]
  },
  {
   "cell_type": "markdown",
   "metadata": {},
   "source": [
    "## <a name = 'Conclusion' style = 'color: black'>Conclusions on the project</a>"
   ]
  },
  {
   "cell_type": "markdown",
   "metadata": {},
   "source": [
    "As I stated at the beginning of the project the reason for chosing these two subreddits is due to the nature of the subreddits that gave me an opportunity to pull texts that was actually utilised by both genders in their realted subreddits. And it is clear that there is a big overlap in the words that are used in the fashion context.\n",
    "\n",
    "\n",
    "In order to make sure that my model is unbiased as possible, I got rid of gender related words and tried running my model with and without the stopwords, and it turns out that the accuracy score jumps up by 10% if I leave the English stop words in. Moreover, lemmatizing or stemmatizing the text does not add value to the model. This in conjunction with the EDA and careful data analysis leads me to the conclusions below:\n",
    "\n",
    "1. The way we structure our language differs between genders:\n",
    "\n",
    "\n",
    "     - Posters in Male subreddit tend to use less words in their sentences and posts\n",
    "     \n",
    "     - They also tend to abbreviate words more, and hence the high frequency usage of the **$** sign\n",
    "\n",
    "\n",
    "2. Posters on female fashion advice tend to use more emotional language or word describing emotions such as **love and feel**\n",
    "\n",
    "\n",
    "3. Although there is a vast amount of overlapping words that are used in the fashion context, phrases and words substantially differ between the two subreddits. Certain words such as 'shirt', 'chinos' or 'dress' have high impact on the predictions ability of the model.\n",
    "\n",
    "\n",
    "4. Logistic Regression performed better for me in terms of this project as opposed to Naive Bayes, since not only does it have 99$%$ accuracy score but also it is more interpretable so that it helps to analyze what words are the best predictors.\n",
    "\n",
    "\n",
    "\n"
   ]
  },
  {
   "cell_type": "markdown",
   "metadata": {},
   "source": [
    "### Possible applications of the project:\n",
    "\n",
    "1. This model can be used to determine what words are most impactful on gender in terms of marketing fashion products\n",
    "\n",
    "\n",
    "2. It can be used to define who is commenting certain posts/news\n",
    "\n",
    "\n",
    "3. It can be used to simulate human-like behaviour, etc."
   ]
  }
 ],
 "metadata": {
  "kernelspec": {
   "display_name": "Python 3",
   "language": "python",
   "name": "python3"
  },
  "language_info": {
   "codemirror_mode": {
    "name": "ipython",
    "version": 3
   },
   "file_extension": ".py",
   "mimetype": "text/x-python",
   "name": "python",
   "nbconvert_exporter": "python",
   "pygments_lexer": "ipython3",
   "version": "3.7.3"
  }
 },
 "nbformat": 4,
 "nbformat_minor": 2
}
