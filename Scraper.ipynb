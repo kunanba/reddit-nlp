{
 "cells": [
  {
   "cell_type": "markdown",
   "metadata": {},
   "source": [
    "# Importing data"
   ]
  },
  {
   "cell_type": "markdown",
   "metadata": {},
   "source": [
    "I used Reddit API to scrape the data of the Reddit website. In couple of minutes I was able to scrape enough data for me to utilize of the course of this project. The code to collect the neccessary data is below."
   ]
  },
  {
   "cell_type": "code",
   "execution_count": 1,
   "metadata": {},
   "outputs": [],
   "source": [
    "import pandas as pd\n",
    "import requests\n",
    "from time import sleep\n",
    "from datetime import datetime"
   ]
  },
  {
   "cell_type": "code",
   "execution_count": 2,
   "metadata": {},
   "outputs": [],
   "source": [
    "# code to scrape malefashionadvice subreddit\n",
    "\n",
    "posts = []\n",
    "after = None\n",
    "headers = {'user-agent': 'slimey bot'}\n",
    "\n",
    "for i in range(80):\n",
    "    if after == None:\n",
    "        param = {}\n",
    "    else:\n",
    "        param = {'after': after}\n",
    "\n",
    "    url = 'https://www.reddit.com/r/malefashionadvice/.json'\n",
    "    res = requests.get(url, params=param, headers=headers)\n",
    "    \n",
    "    if res.status_code == 200:\n",
    "        male_fash = res.json()\n",
    "        posts.extend(male_fash['data']['children'])\n",
    "        after = male_fash['data']['after']\n",
    "    else:\n",
    "        print(res.status_code)\n",
    "        break\n",
    "    sleep(1)"
   ]
  },
  {
   "cell_type": "code",
   "execution_count": 3,
   "metadata": {},
   "outputs": [
    {
     "data": {
      "text/plain": [
       "'Welcome to /r/MaleFashionAdvice! Please click for our info hub on guides, rules, the wiki and more!'"
      ]
     },
     "execution_count": 3,
     "metadata": {},
     "output_type": "execute_result"
    }
   ],
   "source": [
    "# checking the data\n",
    "posts[0]['data']['title']"
   ]
  },
  {
   "cell_type": "code",
   "execution_count": 4,
   "metadata": {},
   "outputs": [],
   "source": [
    "# creating a separate dataframe for data from malefashionadvice subreddit\n",
    "male = [post['data'] for post in posts]\n",
    "    \n",
    "malefashion = pd.DataFrame(male)\n",
    "\n",
    "len(malefashion)"
   ]
  },
  {
   "cell_type": "code",
   "execution_count": 13,
   "metadata": {},
   "outputs": [],
   "source": [
    "# Same code to scrape data from femalefashionadvice reddit\n",
    "\n",
    "posts2 = []\n",
    "after = None\n",
    "headers = {'user-agent': 'slimey bot'}\n",
    "\n",
    "for i in range(80):\n",
    "    if after == None:\n",
    "        param = {}\n",
    "    else:\n",
    "        param = {'after': after}\n",
    "\n",
    "    url2 = 'https://www.reddit.com/r/femalefashionadvice/.json'\n",
    "    res = requests.get(url2, params=param, headers=headers)\n",
    "    \n",
    "    if res.status_code == 200:\n",
    "        female_fash = res.json()\n",
    "        posts2.extend(female_fash['data']['children'])\n",
    "        after = female_fash['data']['after']\n",
    "    else:\n",
    "        print(res.status_code)\n",
    "        break\n",
    "    sleep(1)"
   ]
  },
  {
   "cell_type": "code",
   "execution_count": 14,
   "metadata": {},
   "outputs": [
    {
     "data": {
      "text/plain": [
       "{'approved_at_utc': None,\n",
       " 'subreddit': 'femalefashionadvice',\n",
       " 'selftext': 'Welcome to the monthly Buy/Sell/Trade. To keep things running smoothly, we have the following rules:\\n\\n**Sellers:**\\n\\n* Only regular members of [/r/femalefashionadvice](https://www.reddit.com/r/femalefashionadvice) may list items to sell. If you are unsure if you qualify, please message the mod team.\\n* You must include photos of the actual item you are intending to sell, not just product photos.\\n* You must host the photos of your items on imgur.\\n* You may not link to ebay, craigslist, etsy, or any other online retail site.\\n* Please edit your post with the status of items as they are sold.\\n* Please include where you are shipping from and where you are willing to ship to.\\n* Final purchase details are to be discussed over PM and not in the thread itself.\\n* The mod team at FFA is not responsible for sales that go wrong. You are selling items at your own risk. Please do due diligence before completing a transaction. Be aware that Paypal almost always sides with the buyer when transactions go wrong.\\n\\n**Buyers:**\\n\\n* Buying items is open to anyone\\n* Feel free to ask questions about items as others may have the same questions as you.\\n* Final purchase details are to be discussed only in PM and not in the thread itself.\\n* The mod team at FFA is not responsible for sales that go wrong. You are buying items at your own risk. Please do due diligence before completing a transaction.',\n",
       " 'author_fullname': 't2_7t5d7',\n",
       " 'saved': False,\n",
       " 'mod_reason_title': None,\n",
       " 'gilded': 0,\n",
       " 'clicked': False,\n",
       " 'title': 'Buy/Sell/Trade- July 2019',\n",
       " 'link_flair_richtext': [],\n",
       " 'subreddit_name_prefixed': 'r/femalefashionadvice',\n",
       " 'hidden': False,\n",
       " 'pwls': 6,\n",
       " 'link_flair_css_class': None,\n",
       " 'downs': 0,\n",
       " 'thumbnail_height': None,\n",
       " 'hide_score': False,\n",
       " 'name': 't3_c9hptn',\n",
       " 'quarantine': False,\n",
       " 'link_flair_text_color': 'dark',\n",
       " 'author_flair_background_color': None,\n",
       " 'subreddit_type': 'public',\n",
       " 'ups': 9,\n",
       " 'total_awards_received': 0,\n",
       " 'media_embed': {},\n",
       " 'thumbnail_width': None,\n",
       " 'author_flair_template_id': None,\n",
       " 'is_original_content': False,\n",
       " 'user_reports': [],\n",
       " 'secure_media': None,\n",
       " 'is_reddit_media_domain': False,\n",
       " 'is_meta': False,\n",
       " 'category': None,\n",
       " 'secure_media_embed': {},\n",
       " 'link_flair_text': None,\n",
       " 'can_mod_post': False,\n",
       " 'score': 9,\n",
       " 'approved_by': None,\n",
       " 'thumbnail': 'self',\n",
       " 'edited': False,\n",
       " 'author_flair_css_class': None,\n",
       " 'author_flair_richtext': [],\n",
       " 'gildings': {},\n",
       " 'content_categories': None,\n",
       " 'is_self': True,\n",
       " 'mod_note': None,\n",
       " 'created': 1562371689.0,\n",
       " 'link_flair_type': 'text',\n",
       " 'wls': 6,\n",
       " 'banned_by': None,\n",
       " 'author_flair_type': 'text',\n",
       " 'domain': 'self.femalefashionadvice',\n",
       " 'allow_live_comments': True,\n",
       " 'selftext_html': '&lt;!-- SC_OFF --&gt;&lt;div class=\"md\"&gt;&lt;p&gt;Welcome to the monthly Buy/Sell/Trade. To keep things running smoothly, we have the following rules:&lt;/p&gt;\\n\\n&lt;p&gt;&lt;strong&gt;Sellers:&lt;/strong&gt;&lt;/p&gt;\\n\\n&lt;ul&gt;\\n&lt;li&gt;Only regular members of &lt;a href=\"https://www.reddit.com/r/femalefashionadvice\"&gt;/r/femalefashionadvice&lt;/a&gt; may list items to sell. If you are unsure if you qualify, please message the mod team.&lt;/li&gt;\\n&lt;li&gt;You must include photos of the actual item you are intending to sell, not just product photos.&lt;/li&gt;\\n&lt;li&gt;You must host the photos of your items on imgur.&lt;/li&gt;\\n&lt;li&gt;You may not link to ebay, craigslist, etsy, or any other online retail site.&lt;/li&gt;\\n&lt;li&gt;Please edit your post with the status of items as they are sold.&lt;/li&gt;\\n&lt;li&gt;Please include where you are shipping from and where you are willing to ship to.&lt;/li&gt;\\n&lt;li&gt;Final purchase details are to be discussed over PM and not in the thread itself.&lt;/li&gt;\\n&lt;li&gt;The mod team at FFA is not responsible for sales that go wrong. You are selling items at your own risk. Please do due diligence before completing a transaction. Be aware that Paypal almost always sides with the buyer when transactions go wrong.&lt;/li&gt;\\n&lt;/ul&gt;\\n\\n&lt;p&gt;&lt;strong&gt;Buyers:&lt;/strong&gt;&lt;/p&gt;\\n\\n&lt;ul&gt;\\n&lt;li&gt;Buying items is open to anyone&lt;/li&gt;\\n&lt;li&gt;Feel free to ask questions about items as others may have the same questions as you.&lt;/li&gt;\\n&lt;li&gt;Final purchase details are to be discussed only in PM and not in the thread itself.&lt;/li&gt;\\n&lt;li&gt;The mod team at FFA is not responsible for sales that go wrong. You are buying items at your own risk. Please do due diligence before completing a transaction.&lt;/li&gt;\\n&lt;/ul&gt;\\n&lt;/div&gt;&lt;!-- SC_ON --&gt;',\n",
       " 'likes': None,\n",
       " 'suggested_sort': None,\n",
       " 'banned_at_utc': None,\n",
       " 'view_count': None,\n",
       " 'archived': False,\n",
       " 'no_follow': False,\n",
       " 'is_crosspostable': False,\n",
       " 'pinned': False,\n",
       " 'over_18': False,\n",
       " 'all_awardings': [],\n",
       " 'media_only': False,\n",
       " 'can_gild': False,\n",
       " 'spoiler': False,\n",
       " 'locked': False,\n",
       " 'author_flair_text': None,\n",
       " 'visited': False,\n",
       " 'num_reports': None,\n",
       " 'distinguished': None,\n",
       " 'subreddit_id': 't5_2s8o5',\n",
       " 'mod_reason_by': None,\n",
       " 'removal_reason': None,\n",
       " 'link_flair_background_color': '',\n",
       " 'id': 'c9hptn',\n",
       " 'is_robot_indexable': True,\n",
       " 'report_reasons': None,\n",
       " 'author': 'FFA_Moderator',\n",
       " 'num_crossposts': 0,\n",
       " 'num_comments': 26,\n",
       " 'send_replies': True,\n",
       " 'whitelist_status': 'all_ads',\n",
       " 'contest_mode': False,\n",
       " 'mod_reports': [],\n",
       " 'author_patreon_flair': False,\n",
       " 'author_flair_text_color': None,\n",
       " 'permalink': '/r/femalefashionadvice/comments/c9hptn/buyselltrade_july_2019/',\n",
       " 'parent_whitelist_status': 'all_ads',\n",
       " 'stickied': True,\n",
       " 'url': 'https://www.reddit.com/r/femalefashionadvice/comments/c9hptn/buyselltrade_july_2019/',\n",
       " 'subreddit_subscribers': 854931,\n",
       " 'created_utc': 1562342889.0,\n",
       " 'discussion_type': None,\n",
       " 'media': None,\n",
       " 'is_video': False}"
      ]
     },
     "execution_count": 14,
     "metadata": {},
     "output_type": "execute_result"
    }
   ],
   "source": [
    "posts2[1]['data']"
   ]
  },
  {
   "cell_type": "code",
   "execution_count": 16,
   "metadata": {},
   "outputs": [],
   "source": [
    "# creating dataframe for data from femalefashionadvice subreddit\n",
    "\n",
    "female = [post['data'] for post in posts2]\n",
    "\n",
    "femalefashion = pd.DataFrame(female)\n",
    "\n",
    "len(femalefashion)"
   ]
  },
  {
   "cell_type": "code",
   "execution_count": 19,
   "metadata": {},
   "outputs": [
    {
     "name": "stderr",
     "output_type": "stream",
     "text": [
      "C:\\Users\\Rauan\\Anaconda3\\lib\\site-packages\\ipykernel_launcher.py:1: FutureWarning: Sorting because non-concatenation axis is not aligned. A future version\n",
      "of pandas will change to not sort by default.\n",
      "\n",
      "To accept the future behavior, pass 'sort=False'.\n",
      "\n",
      "To retain the current behavior and silence the warning, pass 'sort=True'.\n",
      "\n",
      "  \"\"\"Entry point for launching an IPython kernel.\n"
     ]
    }
   ],
   "source": [
    "# concatinating both dataframes and saving them as csv file\n",
    "\n",
    "fashion = pd.concat([malefashion, femalefashion])\n",
    "\n",
    "fashion.to_csv('scraped2_fashion.csv')"
   ]
  },
  {
   "cell_type": "markdown",
   "metadata": {},
   "source": [
    "For Data Cleaning process please check out this [link](./Data_cleaning.ipynb)"
   ]
  }
 ],
 "metadata": {
  "kernelspec": {
   "display_name": "Python 3",
   "language": "python",
   "name": "python3"
  },
  "language_info": {
   "codemirror_mode": {
    "name": "ipython",
    "version": 3
   },
   "file_extension": ".py",
   "mimetype": "text/x-python",
   "name": "python",
   "nbconvert_exporter": "python",
   "pygments_lexer": "ipython3",
   "version": "3.7.3"
  }
 },
 "nbformat": 4,
 "nbformat_minor": 2
}
